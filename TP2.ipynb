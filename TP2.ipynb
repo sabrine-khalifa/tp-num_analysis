{
 "cells": [
  {
   "cell_type": "markdown",
   "id": "8bf8f81c",
   "metadata": {},
   "source": [
    "# Exercice 1:"
   ]
  },
  {
   "cell_type": "code",
   "execution_count": 1,
   "id": "9df61a6c",
   "metadata": {},
   "outputs": [],
   "source": [
    "from numpy import prod\n",
    "def prog(x,y,c):\n",
    "    S = [] \n",
    "    n = len(x)\n",
    "    \n",
    "    for j in range(n):\n",
    "        L =[c-xx for xx in x]\n",
    "        for k in range(n):\n",
    "            if (k == j):                \n",
    "                L[k] = 1\n",
    "            else:\n",
    "                L[k] = L[k]/(x[j] - x[k])   \n",
    "        S.append(y[j]*prod(L))\n",
    "        \n",
    "    return  sum(S)"
   ]
  },
  {
   "cell_type": "code",
   "execution_count": 2,
   "id": "1c8be35c",
   "metadata": {},
   "outputs": [
    {
     "name": "stdout",
     "output_type": "stream",
     "text": [
      "-1.0\n",
      "0.0\n",
      "2.0\n",
      "1.0\n",
      "3.0\n"
     ]
    },
    {
     "data": {
      "text/plain": [
       "8"
      ]
     },
     "execution_count": 2,
     "metadata": {},
     "output_type": "execute_result"
    }
   ],
   "source": [
    "X=[1 ,2 ,3 ,4,-2];\n",
    "Y=[-1, 0, 2 ,1,3];\n",
    "for i in X:\n",
    "    print(prog(X,Y,i))\n",
    "sum(X)"
   ]
  },
  {
   "cell_type": "code",
   "execution_count": 119,
   "id": "202de99a",
   "metadata": {},
   "outputs": [],
   "source": [
    "from numpy import prod\n",
    "def pr(x,y,c):\n",
    "    S = [] \n",
    "    n = len(x)\n",
    "    for j in range(n):\n",
    "        L =[c-xx for xx in x]\n",
    "        for k in range(n):\n",
    "            if (k == j):                \n",
    "                L[k] = 1\n",
    "            else:\n",
    "                L[k] = L[k]/(x[j] - x[k])   \n",
    "        S.append(y[j]*prod(L))\n",
    " \n",
    "\n",
    "    return  sum(S)"
   ]
  },
  {
   "cell_type": "code",
   "execution_count": 121,
   "id": "72977caa",
   "metadata": {},
   "outputs": [
    {
     "name": "stdout",
     "output_type": "stream",
     "text": [
      "-1.0\n",
      "0.0\n",
      "2.0\n",
      "1.0\n"
     ]
    }
   ],
   "source": [
    "X=[1,2,3,4]\n",
    "Y=[-1,0,2,1]\n",
    "for i in X:\n",
    "    print(pr(X,Y,i))\n",
    "\n",
    "\n"
   ]
  },
  {
   "cell_type": "markdown",
   "id": "1404d252",
   "metadata": {},
   "source": [
    "# 2) Que contient le vecteur LL après la fin de la boucle kk \n"
   ]
  },
  {
   "cell_type": "code",
   "execution_count": 112,
   "id": "a0f6e8e2",
   "metadata": {},
   "outputs": [],
   "source": [
    "x=[1,2,3,4]\n",
    "y=[-1,0,2,1]"
   ]
  },
  {
   "cell_type": "code",
   "execution_count": 113,
   "id": "5c5a7d47",
   "metadata": {},
   "outputs": [],
   "source": [
    "def pr_2(x,y,c):\n",
    "    S = [] \n",
    "    n = len(x)\n",
    "    for c in x:\n",
    "            for j in range(n):\n",
    "                L =[c-xx for xx in x]\n",
    "                for k in range(n):\n",
    "                    if (k == j):                \n",
    "                        L[k] = 1\n",
    "                    else:\n",
    "                        L[k] = L[k]/(x[j] - x[k])   \n",
    "                S.append(y[j]*prod(L))\n",
    "\n",
    "            return L[3]\n",
    "   "
   ]
  },
  {
   "cell_type": "code",
   "execution_count": 115,
   "id": "01f815d2",
   "metadata": {},
   "outputs": [
    {
     "name": "stdout",
     "output_type": "stream",
     "text": [
      "1\n",
      "1\n",
      "1\n",
      "1\n"
     ]
    }
   ],
   "source": [
    "for i in x:\n",
    "    print(pr_2(x,y,i))"
   ]
  },
  {
   "cell_type": "markdown",
   "id": "2b8e7036",
   "metadata": {},
   "source": [
    "# 3) Utiliser cette fonction pour dessiner le graph du polynôme de Lagrange de la fonction f(x) = \\dfrac{1}{1 + x^2} aux points x=[-1:0.1:1]$.\n",
    "\n"
   ]
  },
  {
   "cell_type": "code",
   "execution_count": 122,
   "id": "083f27c6",
   "metadata": {},
   "outputs": [
    {
     "data": {
      "image/png": "[encoded data removed]",
      "text/plain": [
       "<Figure size 432x288 with 1 Axes>"
      ]
     },
     "metadata": {
      "needs_background": "light"
     },
     "output_type": "display_data"
    }
   ],
   "source": [
    "\n",
    "import matplotlib.pyplot as plt\n",
    "import numpy as np   \n",
    "pn=[]\n",
    "x=np.arange(-1,1,0.1)\n",
    "f= lambda x:1/(1+x**2)\n",
    "y=f(x)\n",
    "t=np.linspace(-1,1,100)\n",
    "for i in range(len(t)):\n",
    "    pn.append(pr(x,y,t[i]))\n",
    "plt.plot(t,pn,\"r\",x,y,\"bo\",t,f(t),\"g\")\n",
    "plt.show()"
   ]
  },
  {
   "cell_type": "markdown",
   "id": "cccaa85c",
   "metadata": {},
   "source": [
    "# 4) On considère la fonction F suivante :\n",
    " \n",
    " \n",
    "et les points d'interpolation x_i = ih, 0\\leq i\\leq n, avec  n=20 et h=0.1.\n",
    "\n",
    "4.1) Représenter sur un même graphe la fonction F et p_n, où p_n est le polynôme d'interpolation de Lagrange de F aux points x_0,\\,\\ldots,\\,x_n."
   ]
  },
  {
   "cell_type": "code",
   "execution_count": 123,
   "id": "be2ef4d2",
   "metadata": {},
   "outputs": [
    {
     "data": {
      "image/png": "[encoded data removed]",
      "text/plain": [
       "<Figure size 432x288 with 1 Axes>"
      ]
     },
     "metadata": {
      "needs_background": "light"
     },
     "output_type": "display_data"
    }
   ],
   "source": [
    "import numpy as np\n",
    "import matplotlib.pyplot as plt\n",
    "import math\n",
    "pt=[]\n",
    "x=np.arange(0,3)\n",
    "f= lambda x:math.pi-math.cos(x/2)+x*math.sqrt(1-(x/2)**2)\n",
    "f_2=np.vectorize(f)\n",
    "y=f_2(x)\n",
    "t=np.linspace(-1,1,100)\n",
    "for i in range(len(t)):\n",
    "    pt.append(pr(x,y,t[i]))\n",
    "plt.plot(t,pt,\"r\",x,y,\"bo\",t,f_2(t),\"g\")\n",
    "plt.show()"
   ]
  },
  {
   "cell_type": "markdown",
   "id": "4238ea21",
   "metadata": {},
   "source": [
    "# 2)Tracer la courbe d'erreur (la fonction $F-p_n$). Qu'observer vous."
   ]
  },
  {
   "cell_type": "code",
   "execution_count": 124,
   "id": "d3133b07",
   "metadata": {},
   "outputs": [
    {
     "data": {
      "image/png": "[encoded data removed]",
      "text/plain": [
       "<Figure size 432x288 with 1 Axes>"
      ]
     },
     "metadata": {
      "needs_background": "light"
     },
     "output_type": "display_data"
    }
   ],
   "source": [
    "plt.plot(t,f_2(t)-pt,\"r\")\n",
    "plt.show()"
   ]
  },
  {
   "cell_type": "markdown",
   "id": "7616e253",
   "metadata": {},
   "source": [
    "# Exercice 2 ( Phenomène de Runge )\n",
    "1) Vérifier que sur $[-5,5]$ le polynôme d'interpolation de Lagrange de la fonction $f$ définie par $f(x)=\\displaystyle{\\frac{1}{1+x^2}}$, en $N$ points uniformément espacés ne convergent pas correctement aux voisinages de $-1$ et $1$, pour $N=7,8,9,10 ...$"
   ]
  },
  {
   "cell_type": "code",
   "execution_count": 2,
   "id": "4c00f720",
   "metadata": {},
   "outputs": [
    {
     "data": {
      "text/plain": [
       "Text(0.5, 1.0, 'Interpolation Equidistante avec N=10')"
      ]
     },
     "execution_count": 2,
     "metadata": {},
     "output_type": "execute_result"
    },
    {
     "data": {
      "image/png": "[encoded data removed]",
      "text/plain": [
       "<Figure size 432x288 with 4 Axes>"
      ]
     },
     "metadata": {
      "needs_background": "light"
     },
     "output_type": "display_data"
    }
   ],
   "source": [
    "import numpy as np\n",
    "import matplotlib.pyplot as plt\n",
    "N=7\n",
    "X=np.linspace(-5,5,N)\n",
    "f= lambda x:1/(1+x**2)\n",
    "Y=f(X);\n",
    "p=np.polyfit(X,Y,N-1)\n",
    "t=np.linspace(-5,5,1000)\n",
    "plt.subplot(2,2,1)\n",
    "plt.plot(t,f(t),'r',X,Y,'ob', t, np.polyval(p,t),'g')\n",
    "plt.title(\"Interpolation Equidistante avec N=7\")\n",
    "##############################\n",
    "N=8\n",
    "X=np.linspace(-5,5,N)\n",
    "Y=f(X)\n",
    "p=np.polyfit(X,Y,N-1)\n",
    "t=np.linspace(-5,5,1000);\n",
    "plt.subplot(2,2,2)\n",
    "plt.plot(t,f(t),'r',X,Y,'ob', t, np.polyval(p,t),'g')\n",
    "plt.title(\"Interpolation Equidistante avec N=8\")\n",
    "\n",
    "##############################\n",
    "\n",
    "N=9\n",
    "X=np.linspace(-5,5,N)\n",
    "Y=f(X)\n",
    "p=np.polyfit(X,Y,N-1)\n",
    "t=np.linspace(-5,5,1000)\n",
    "plt.subplot(2,2,3)\n",
    "plt.plot(t,f(t),'r',X,Y,'ob', t, np.polyval(p,t),'g')\n",
    "plt.title(\"Interpolation Equidistante avec N=9\")\n",
    "\n",
    "##############################\n",
    "\n",
    "N=10\n",
    "X=np.linspace(-5,5,N)\n",
    "Y=f(X)\n",
    "p=np.polyfit(X,Y,N-1)\n",
    "t=np.linspace(-5,5,1000)\n",
    "plt.subplot(2,2,4)\n",
    "plt.plot(t,f(t),'r',X,Y,'ob', t, np.polyval(p,t),'g')\n",
    "plt.title(\"Interpolation Equidistante avec N=10\")"
   ]
  },
  {
   "cell_type": "markdown",
   "id": "0c02c03c",
   "metadata": {},
   "source": [
    "# 2) Les points de Tchebycheff sur un intervalle $[a;b]$ sont définie par :\n",
    " \n",
    " \n",
    " \n",
    "\n",
    "Vérifier que sur $[-5; 5]$ ; l'interpolation polynômiale de $f(x) = \\dfrac{1}{1 + x^2}$ ; en $N$ points de Tchebychev est meilleure qu'une interpolation utilisant $N$ points uniforment espacés (on prendra $N=10, 11, 16, 17$)."
   ]
  },
  {
   "cell_type": "code",
   "execution_count": 141,
   "id": "47eeaab9",
   "metadata": {},
   "outputs": [],
   "source": [
    "import math\n",
    "def tcheb(a,b,n):\n",
    "    V=[]\n",
    "    for k in range(n):\n",
    "         V.append((a+b)/2+(a-b)/2*math.cos((k-1)/(n-1)*math.pi))\n",
    "    return V\n"
   ]
  },
  {
   "cell_type": "code",
   "execution_count": 142,
   "id": "2f0d2716",
   "metadata": {},
   "outputs": [
    {
     "data": {
      "text/plain": [
       "[-4.755282581475767,\n",
       " -5.0,\n",
       " -4.755282581475767,\n",
       " -4.045084971874737,\n",
       " -2.938926261462366,\n",
       " -1.5450849718747373,\n",
       " -3.061616997868383e-16,\n",
       " 1.5450849718747368,\n",
       " 2.938926261462365,\n",
       " 4.045084971874736,\n",
       " 4.755282581475767]"
      ]
     },
     "execution_count": 142,
     "metadata": {},
     "output_type": "execute_result"
    }
   ],
   "source": [
    "tcheb(-5,5,11)"
   ]
  },
  {
   "cell_type": "code",
   "execution_count": 156,
   "id": "fa4b3252",
   "metadata": {},
   "outputs": [
    {
     "name": "stderr",
     "output_type": "stream",
     "text": [
      "C:\\ProgramData\\Anaconda3\\lib\\site-packages\\IPython\\core\\interactiveshell.py:3437: RankWarning: Polyfit may be poorly conditioned\n",
      "  exec(code_obj, self.user_global_ns, self.user_ns)\n",
      "C:\\ProgramData\\Anaconda3\\lib\\site-packages\\IPython\\core\\interactiveshell.py:3437: RankWarning: Polyfit may be poorly conditioned\n",
      "  exec(code_obj, self.user_global_ns, self.user_ns)\n",
      "C:\\ProgramData\\Anaconda3\\lib\\site-packages\\IPython\\core\\interactiveshell.py:3437: RankWarning: Polyfit may be poorly conditioned\n",
      "  exec(code_obj, self.user_global_ns, self.user_ns)\n",
      "C:\\ProgramData\\Anaconda3\\lib\\site-packages\\IPython\\core\\interactiveshell.py:3437: RankWarning: Polyfit may be poorly conditioned\n",
      "  exec(code_obj, self.user_global_ns, self.user_ns)\n"
     ]
    },
    {
     "data": {
      "text/plain": [
       "Text(0.5, 1.0, 'Interpolation Tchebycheff avec N=17')"
      ]
     },
     "execution_count": 156,
     "metadata": {},
     "output_type": "execute_result"
    },
    {
     "data": {
      "image/png": "[encoded data removed]",
      "text/plain": [
       "<Figure size 432x288 with 4 Axes>"
      ]
     },
     "metadata": {
      "needs_background": "light"
     },
     "output_type": "display_data"
    }
   ],
   "source": [
    "N=10\n",
    "Yt=[]\n",
    "f = lambda x:1/(1+x**2)\n",
    "Xt=tcheb(-5,5,N)\n",
    "for i in Xt:\n",
    "    Yt.append(f(i))\n",
    "pt=np.polyfit(Xt,Yt,N-1)\n",
    "t=np.linspace(-5,5,1000)\n",
    "plt.subplot(2,2,1)\n",
    "plt.plot(t,f(t),'r',Xt,Yt,'ob', t, np.polyval(pt,t),'g')\n",
    "plt.title(\"Interpolation Tchebycheff avec N=10\")\n",
    "\n",
    "##########################################\n",
    "N=11\n",
    "Yt=[]\n",
    "Xt=tcheb(-5,5,N)\n",
    "for i in Xt:   \n",
    "    Yt.append(f(i))\n",
    "pt=np.polyfit(Xt,Yt,N-1)\n",
    "t=np.linspace(-5,5,1000)\n",
    "plt.subplot(2,2,2)\n",
    "plt.plot(t,f(t),'r',Xt,Yt,'ob', t, np.polyval(pt,t),'g')\n",
    "plt.title(\"Interpolation Tchebycheff avec N=11\")\n",
    "##########################################\n",
    "N=16\n",
    "Yt=[]\n",
    "Xt=tcheb(-5,5,N)\n",
    "for i in Xt:\n",
    "    Yt.append(f(i))\n",
    "pt=np.polyfit(Xt,Yt,N-1)\n",
    "t=np.linspace(-5,5,1000)\n",
    "plt.subplot(2,2,3)\n",
    "plt.plot(t,f(t),'r',Xt,Yt,'ob', t, np.polyval(pt,t),'g')\n",
    "plt.title(\"Interpolation Tchebycheff avec N=16\")\n",
    "##########################################\n",
    "N=17\n",
    "Yt=[]\n",
    "Xt=tcheb(-5,5,N)\n",
    "for i in Xt:\n",
    "    Yt.append(f(i))\n",
    "pt=np.polyfit(Xt,Yt,N-1)\n",
    "t=np.linspace(-5,5,1000)\n",
    "plt.subplot(2,2,4)\n",
    "plt.plot(t,f(t),'r',Xt,Yt,'ob', t, np.polyval(pt,t),'g')\n",
    "plt.title(\"Interpolation Tchebycheff avec N=17\")\n"
   ]
  },
  {
   "cell_type": "markdown",
   "id": "96660451",
   "metadata": {},
   "source": [
    "# Exercice 3:"
   ]
  },
  {
   "cell_type": "markdown",
   "id": "38b5dd3f",
   "metadata": {},
   "source": [
    "# 1) Déterminer en utilisant les deux codes puis par un calcul à la main le polynôme de Newton pour les données suivantes :\n",
    "\n"
   ]
  },
  {
   "cell_type": "code",
   "execution_count": 159,
   "id": "b1c368d1",
   "metadata": {},
   "outputs": [],
   "source": [
    "def intN(x,y):\n",
    "    m=len(x)\n",
    "    f=np.zeros(m)\n",
    "    for k in range(1,m):\n",
    "        f[k:m+1]=np.array(np.array(y[k:m+1])-np.array(y[k-1:m-1]))/np.array(np.array(x[k:m+1])-np.array(x[0:m-k]))\n",
    "    return f\n"
   ]
  },
  {
   "cell_type": "code",
   "execution_count": 160,
   "id": "0b0e5556",
   "metadata": {},
   "outputs": [
    {
     "name": "stdout",
     "output_type": "stream",
     "text": [
      "[ 0.         -5.          0.66666667 10.5       ]\n"
     ]
    }
   ],
   "source": [
    "x=[-1,0,2,5]\n",
    "y=[6,1,3,66]\n",
    "print(intN(x,y))"
   ]
  },
  {
   "cell_type": "code",
   "execution_count": 168,
   "id": "f573cc5f",
   "metadata": {},
   "outputs": [],
   "source": [
    "def intNval(x,y,t):\n",
    "    m=len(x)\n",
    "    p=y[m-1]*np.ones(len(t))\n",
    "    for k in range(m-2,-1,-1):\n",
    "        p=p*np.array((np.array(t)-x[k]))+y[k]\n",
    "    return p"
   ]
  },
  {
   "cell_type": "code",
   "execution_count": 170,
   "id": "b26fcd75",
   "metadata": {},
   "outputs": [
    {
     "data": {
      "text/plain": [
       "array([   7., -118.,   27.,  838.])"
      ]
     },
     "execution_count": 170,
     "metadata": {},
     "output_type": "execute_result"
    }
   ],
   "source": [
    "x=[-1,0,2,5]\n",
    "y=[6,1,3,66]\n",
    "t=[0,1,2,3]\n",
    "intNval(x,y,t)"
   ]
  },
  {
   "cell_type": "markdown",
   "id": "50aeb41d",
   "metadata": {},
   "source": [
    "# 2) Donner le Graph du polynôme trouvé en 1) dans l'intervalle $[-1;5]$"
   ]
  },
  {
   "cell_type": "code",
   "execution_count": 172,
   "id": "0c0de9f9",
   "metadata": {},
   "outputs": [
    {
     "data": {
      "text/plain": [
       "[<matplotlib.lines.Line2D at 0xdb69817850>,\n",
       " <matplotlib.lines.Line2D at 0xdb69817910>]"
      ]
     },
     "execution_count": 172,
     "metadata": {},
     "output_type": "execute_result"
    },
    {
     "data": {
      "image/png": "[encoded data removed]",
      "text/plain": [
       "<Figure size 432x288 with 1 Axes>"
      ]
     },
     "metadata": {
      "needs_background": "light"
     },
     "output_type": "display_data"
    }
   ],
   "source": [
    "x=[-1,0,2,5]\n",
    "y=[6,1,3,66]\n",
    "intN(x,y)\n",
    "plt.plot(x,f,'r',x,y,'ob')"
   ]
  },
  {
   "cell_type": "code",
   "execution_count": 174,
   "id": "bbdf3f34",
   "metadata": {},
   "outputs": [
    {
     "data": {
      "text/plain": [
       "7.0"
      ]
     },
     "execution_count": 174,
     "metadata": {},
     "output_type": "execute_result"
    }
   ],
   "source": [
    "x=[-1,0,2,5]\n",
    "y=[6,1,3,66]\n",
    "t=[0,1,2,3]\n",
    "p=intNval(x,y,t)\n",
    "p[0]"
   ]
  },
  {
   "cell_type": "markdown",
   "id": "06264180",
   "metadata": {},
   "source": [
    "# 4) Recalculer à la main et puis à l'aide du Programme neville la valeur de $P(1)$.\n",
    "\n"
   ]
  },
  {
   "cell_type": "code",
   "execution_count": null,
   "id": "2b0b9293",
   "metadata": {},
   "outputs": [],
   "source": []
  }
 ],
 "metadata": {
  "kernelspec": {
   "display_name": "Python 3",
   "language": "python",
   "name": "python3"
  },
  "language_info": {
   "codemirror_mode": {
    "name": "ipython",
    "version": 3
   },
   "file_extension": ".py",
   "mimetype": "text/x-python",
   "name": "python",
   "nbconvert_exporter": "python",
   "pygments_lexer": "ipython3",
   "version": "3.8.8"
  }
 },
 "nbformat": 4,
 "nbformat_minor": 5
}

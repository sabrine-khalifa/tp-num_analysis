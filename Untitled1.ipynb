{
 "cells": [
  {
   "cell_type": "code",
   "execution_count": 97,
   "id": "21d8758c",
   "metadata": {},
   "outputs": [],
   "source": [
    "def prod(x,y):\n",
    "    ''' Cette fonction effectue le produit de deux nombre\n",
    "    '''\n",
    "    return x*y\n"
   ]
  },
  {
   "cell_type": "code",
   "execution_count": 95,
   "id": "64e3d36d",
   "metadata": {},
   "outputs": [
    {
     "data": {
      "image/png": "[encoded data removed]",
      "text/latex": [
       "$\\displaystyle 30$"
      ],
      "text/plain": [
       "30"
      ]
     },
     "execution_count": 95,
     "metadata": {},
     "output_type": "execute_result"
    }
   ],
   "source": [
    "prod(5,6)"
   ]
  },
  {
   "cell_type": "code",
   "execution_count": 98,
   "id": "475b422f",
   "metadata": {},
   "outputs": [],
   "source": [
    "somme=lambda x,y,z: x+y+z"
   ]
  },
  {
   "cell_type": "code",
   "execution_count": 100,
   "id": "9e3db36f",
   "metadata": {},
   "outputs": [
    {
     "name": "stdout",
     "output_type": "stream",
     "text": [
      "22\n",
      "0\n"
     ]
    }
   ],
   "source": [
    "print(somme(12,3,7))\n",
    "\n",
    "print(somme(0,0,0))"
   ]
  },
  {
   "cell_type": "code",
   "execution_count": 102,
   "id": "1edd0e4d",
   "metadata": {},
   "outputs": [
    {
     "name": "stdout",
     "output_type": "stream",
     "text": [
      "12\n",
      "hello world\n"
     ]
    }
   ],
   "source": [
    "print(somme(1,1,10))\n",
    "print('hello world')"
   ]
  },
  {
   "cell_type": "code",
   "execution_count": 103,
   "id": "d86ab05d",
   "metadata": {},
   "outputs": [],
   "source": [
    "x='chaine'\n",
    "x1='azert'\n",
    "y=12\n",
    "z=12.3\n",
    "t=1+2j"
   ]
  },
  {
   "cell_type": "code",
   "execution_count": 108,
   "id": "2bb29615",
   "metadata": {},
   "outputs": [],
   "source": [
    "T=[11,21,312,421,511,1,2,3,4,5,6,11,21,312,421,511,1,2,3,4]\n",
    "M=[1,2,3]\n",
    "L=[0,1]\n",
    "M[1]=-1"
   ]
  },
  {
   "cell_type": "code",
   "execution_count": 109,
   "id": "c50403ae",
   "metadata": {},
   "outputs": [
    {
     "data": {
      "image/png": "[encoded data removed]",
      "text/latex": [
       "$\\displaystyle \\left[ 4, \\  3, \\  2, \\  1, \\  511, \\  421, \\  312, \\  21, \\  11, \\  6, \\  5, \\  4, \\  3, \\  2, \\  1, \\  511, \\  421, \\  312, \\  21, \\  11\\right]$"
      ],
      "text/plain": [
       "[4, 3, 2, 1, 511, 421, 312, 21, 11, 6, 5, 4, 3, 2, 1, 511, 421, 312, 21, 11]"
      ]
     },
     "execution_count": 109,
     "metadata": {},
     "output_type": "execute_result"
    }
   ],
   "source": [
    "T[::-1]"
   ]
  },
  {
   "cell_type": "code",
   "execution_count": 116,
   "id": "de76de42",
   "metadata": {},
   "outputs": [
    {
     "name": "stdout",
     "output_type": "stream",
     "text": [
      "hello world\n",
      "hello world\n",
      "hello world\n",
      "hello world\n",
      "hello world\n",
      "hello world\n",
      "hello world\n",
      "hello world\n",
      "hello world\n",
      "hello world\n",
      "???????????\n"
     ]
    }
   ],
   "source": [
    "for i in range(10):\n",
    "    print ('hello world')\n",
    "print('???????????')"
   ]
  },
  {
   "cell_type": "code",
   "execution_count": 57,
   "id": "4d0b7304",
   "metadata": {},
   "outputs": [],
   "source": [
    "def p1(x):\n",
    "    ''' p(x)=(x-1)⁶'''\n",
    "    return (x-1)**6 # ** puissance \n",
    "def p2(x):\n",
    "    '''version développer de p(x)'''\n",
    "    return x**6 - 6*x**5 + 15*x**4 - 20*x**3 + 15*x**2 - 6*x + 1\n"
   ]
  },
  {
   "cell_type": "code",
   "execution_count": 58,
   "id": "fd8b8bd4",
   "metadata": {},
   "outputs": [
    {
     "name": "stdout",
     "output_type": "stream",
     "text": [
      "p1(0.998)=6.400000000000034e-17 \n",
      "p2(0.998)=1.7763568394002505e-15 \n"
     ]
    }
   ],
   "source": [
    "# le calcul de p1(0.998)\n",
    "print('p1({})={} '.format(0.998,p1(0.998)))\n",
    "# le calcul de p2(0.998)\n",
    "print('p2({})={} '.format(0.998,p2(0.998)))"
   ]
  },
  {
   "cell_type": "code",
   "execution_count": 294,
   "id": "dc8d868a",
   "metadata": {},
   "outputs": [
    {
     "data": {
      "text/plain": [
       "1.0000000000000053e-18"
      ]
     },
     "execution_count": 294,
     "metadata": {},
     "output_type": "execute_result"
    }
   ],
   "source": [
    "p1(0.999)\n"
   ]
  },
  {
   "cell_type": "code",
   "execution_count": 295,
   "id": "160b7270",
   "metadata": {},
   "outputs": [
    {
     "data": {
      "text/plain": [
       "1.509903313490213e-14"
      ]
     },
     "execution_count": 295,
     "metadata": {},
     "output_type": "execute_result"
    }
   ],
   "source": [
    "p2(0.995)"
   ]
  },
  {
   "cell_type": "markdown",
   "id": "d106aa8c",
   "metadata": {},
   "source": [
    "# fonction horner:"
   ]
  },
  {
   "cell_type": "code",
   "execution_count": 144,
   "id": "214caf02",
   "metadata": {},
   "outputs": [],
   "source": [
    "\n",
    "def horner(a,z_0):\n",
    "    \n",
    "    n=len(a)\n",
    "    result=a[1]\n",
    "    for j in (2,n):\n",
    "        result=result*z_0+a[j]\n",
    "    return result"
   ]
  },
  {
   "cell_type": "code",
   "execution_count": 339,
   "id": "3af08265",
   "metadata": {},
   "outputs": [
    {
     "name": "stdout",
     "output_type": "stream",
     "text": [
      "-------p(i)---------\n",
      "6.400000000000034e-17\n",
      "6.400000000000034e-17\n",
      "0.994014980014994\n",
      "-------f(i)----------\n",
      "1.7763568394002505e-15\n",
      "1.7763568394002505e-15\n",
      "0.994014980014994\n",
      "-------horner--------\n",
      "0.998\n",
      "1.002\n",
      "0.001\n"
     ]
    }
   ],
   "source": [
    "\n",
    "P=[1,-6,15,-20,15,-6,1]\n",
    "\n",
    "def p1(x):\n",
    "    ''' p(x)=(x-1)⁶'''\n",
    "    return (x-1)**6\n",
    "\n",
    "def p2(x):\n",
    "    '''version développer de p(x)'''\n",
    "    return x**6 - 6*x**5 + 15*x**4 - 20*x**3 + 15*x**2 - 6*x + 1\n",
    "def horner(a,z_0):\n",
    "    return result\n",
    "\n",
    "print('-------p(i)---------')\n",
    "for i in [0.998,1.002,0.001]:\n",
    "     print(p1(i))\n",
    "\n",
    "print('-------f(i)----------')\n",
    "for i in [0.998,1.002,0.001]:\n",
    "    print(p2(i))\n",
    "\n",
    "\n",
    "print('-------horner--------')\n",
    "for i in [0.998,1.002,0.001]:\n",
    "    print(i)\n",
    "\n",
    "\n",
    "\n"
   ]
  },
  {
   "cell_type": "markdown",
   "id": "98843683",
   "metadata": {},
   "source": [
    "# 2)"
   ]
  },
  {
   "cell_type": "code",
   "execution_count": 263,
   "id": "0135773b",
   "metadata": {},
   "outputs": [],
   "source": [
    "import matplotlib.pyplot as plt  \n",
    "from numpy import linspace\n",
    "f=lambda x:(x-1)**6\n",
    "p=lambda x:x**6 - 6*x**5 + 15*x**4 - 20*x**3 + 15*x**2 - 6*x + 1\n",
    "\n",
    "def f ( x ):\n",
    "    return (x-1)**6\n",
    "    x = np . linspace ( 0.998 , 1.002)\n",
    "    y = f ( x )\n",
    "    plt . plot (x , y )\n",
    "    plt . gride ()\n",
    "    plt.showw()\n",
    "\n",
    "\n",
    "    \n",
    " "
   ]
  },
  {
   "cell_type": "markdown",
   "id": "06a96af6",
   "metadata": {},
   "source": [
    "# Exercice 2:"
   ]
  },
  {
   "cell_type": "markdown",
   "id": "44992222",
   "metadata": {},
   "source": [
    "# 1)"
   ]
  },
  {
   "cell_type": "code",
   "execution_count": 3,
   "id": "f7613370",
   "metadata": {},
   "outputs": [],
   "source": [
    "def f(x):\n",
    "    '''la fonction qu'on veut représenter'''\n",
    "    return(x**3+x**2-3*x-3)"
   ]
  },
  {
   "cell_type": "code",
   "execution_count": 80,
   "id": "cbd77605",
   "metadata": {},
   "outputs": [
    {
     "data": {
      "text/plain": [
       "[<matplotlib.lines.Line2D at 0x944bac8a60>]"
      ]
     },
     "execution_count": 80,
     "metadata": {},
     "output_type": "execute_result"
    },
    {
     "data": {
      "image/png": "[encoded data removed]",
      "text/plain": [
       "<Figure size 432x288 with 1 Axes>"
      ]
     },
     "metadata": {
      "needs_background": "light"
     },
     "output_type": "display_data"
    }
   ],
   "source": [
    " \n",
    "import matplotlib.pyplot as plt\n",
    "from numpy import linspace\n",
    "f=lambda x: x**3+x**2-3*x-3\n",
    "T=linspace(-2,2,41)\n",
    "plt.title(\"solution dans [-2:2] \");\n",
    "plt.xlabel(\"x\")\n",
    "plt.ylabel (\"f(x)\")\n",
    "plt.grid(True)\n",
    "plt.plot(T,f(T))\n"
   ]
  },
  {
   "cell_type": "markdown",
   "id": "e0c69202",
   "metadata": {},
   "source": [
    "# 2/ methode de dichotomie"
   ]
  },
  {
   "cell_type": "code",
   "execution_count": 169,
   "id": "7daee2c4",
   "metadata": {},
   "outputs": [],
   "source": [
    "def dicho(a,b,f,n):\n",
    "    m=(a+b)/2;\n",
    "    err=abs(b-a);\n",
    "    while err>n:\n",
    "        if f(m)==0:\n",
    "            break\n",
    "        if f(a)*f(m)<0:\n",
    "             b=m;\n",
    "        else:\n",
    "            a=m;\n",
    "        m=(a+b)/2;\n",
    "        err=abs(b-a);\n",
    "    return m;\n"
   ]
  },
  {
   "cell_type": "code",
   "execution_count": 170,
   "id": "779c525d",
   "metadata": {},
   "outputs": [
    {
     "name": "stdout",
     "output_type": "stream",
     "text": [
      "-1.75\n"
     ]
    }
   ],
   "source": [
    "x3=dicho(-2, -1.5,f,10)\n",
    "#x10=dicho(-2,-1.5,f,10)\n",
    "#x20=dicho(-2,-1.5,f,20)\n",
    "#print(x3,x10,x20)\n",
    "print(x3)"
   ]
  },
  {
   "cell_type": "code",
   "execution_count": 312,
   "id": "b6b14098",
   "metadata": {},
   "outputs": [
    {
     "name": "stdout",
     "output_type": "stream",
     "text": [
      "f(x10)=-3.109375,f(x20)=-3.109375\n"
     ]
    }
   ],
   "source": [
    "print('f(x10)={},f(x20)={}'.format(f(x10),f(x20)))"
   ]
  },
  {
   "cell_type": "code",
   "execution_count": 225,
   "id": "3894e5d1",
   "metadata": {},
   "outputs": [],
   "source": [
    "def dicho(a,b,f,eps):\n",
    "    \"\"\"version tant que qui renvoila solution avec le nombre d'''itération \"\"\"\n",
    "    g,d=min(a,b),max(a,b)\n",
    "    while d-g>eps:\n",
    "            m=(g+d)/2\n",
    "            if f(m)==0:\n",
    "                d=m\n",
    "            else:\n",
    "                g=m \n",
    "    return (g+d)/2\n",
    "    "
   ]
  },
  {
   "cell_type": "code",
   "execution_count": 313,
   "id": "a43e19f9",
   "metadata": {},
   "outputs": [
    {
     "data": {
      "text/plain": [
       "-1.500030517578125"
      ]
     },
     "execution_count": 313,
     "metadata": {},
     "output_type": "execute_result"
    }
   ],
   "source": [
    "dicho(-2, -1.5,f,0.0001)"
   ]
  },
  {
   "cell_type": "code",
   "execution_count": 227,
   "id": "d808e4a3",
   "metadata": {},
   "outputs": [
    {
     "data": {
      "text/plain": [
       "3.0"
      ]
     },
     "execution_count": 227,
     "metadata": {},
     "output_type": "execute_result"
    }
   ],
   "source": [
    "import numpy as np\n",
    "np.floor(2.3)\n",
    "np.ceil(2.3)"
   ]
  },
  {
   "cell_type": "code",
   "execution_count": 228,
   "id": "a92771c7",
   "metadata": {},
   "outputs": [
    {
     "data": {
      "text/plain": [
       "-0.5000000037252903"
      ]
     },
     "execution_count": 228,
     "metadata": {},
     "output_type": "execute_result"
    }
   ],
   "source": [
    "import numpy as np\n",
    "a=-1.5\n",
    "b=-0.5\n",
    "p=8 # précision à 10 ^-8 prés\n",
    "dicho(a,b,f,10**(-p))\n",
    "#à 10^-8"
   ]
  },
  {
   "cell_type": "code",
   "execution_count": 229,
   "id": "414a16b8",
   "metadata": {},
   "outputs": [
    {
     "name": "stdout",
     "output_type": "stream",
     "text": [
      "-1.50048828125\n",
      "-0.50048828125\n",
      "1.99951171875\n",
      "-1.50048828125\n",
      "-0.50048828125\n",
      "1.99951171875\n"
     ]
    }
   ],
   "source": [
    "interval=[[-2,-1.5],[-1.5,-0.5],[1.5,2]]\n",
    "for u in interval:\n",
    "    print(dicho(u[0],u[1],f,10**(-3)))\n",
    "################################################   \n",
    "print(dicho(-2,-1.5,f,10**(-3)))\n",
    "print(dicho(-1.5,-0.5,f,10**(-3)))\n",
    "print(dicho(1.5,2,f,10**(-3)))"
   ]
  },
  {
   "cell_type": "markdown",
   "id": "a8c25820",
   "metadata": {},
   "source": [
    "# Le nombre d'itération N nécéssaire à la méthode de la dichotomie pour trouver alpha à 10^{-p} prés.\n",
    "\n"
   ]
  },
  {
   "cell_type": "code",
   "execution_count": 214,
   "id": "5cac1e89",
   "metadata": {},
   "outputs": [
    {
     "data": {
      "text/plain": [
       "-1.5000038146972656"
      ]
     },
     "execution_count": 214,
     "metadata": {},
     "output_type": "execute_result"
    }
   ],
   "source": [
    "dicho(-2,-1.5,f,10**(-5))"
   ]
  },
  {
   "cell_type": "code",
   "execution_count": 206,
   "id": "d76f9ef1",
   "metadata": {},
   "outputs": [
    {
     "data": {
      "text/plain": [
       "16"
      ]
     },
     "execution_count": 206,
     "metadata": {},
     "output_type": "execute_result"
    }
   ],
   "source": [
    "a= -2\n",
    "b= -1.5\n",
    "ND(5)"
   ]
  },
  {
   "cell_type": "code",
   "execution_count": 187,
   "id": "be55868b",
   "metadata": {},
   "outputs": [
    {
     "data": {
      "text/plain": [
       "-1.5000038146972656"
      ]
     },
     "execution_count": 187,
     "metadata": {},
     "output_type": "execute_result"
    }
   ],
   "source": [
    "#alpha 1\n",
    "dicho(-2, -1.5,f,10**(-5))\n",
    "#à 10^-8"
   ]
  },
  {
   "cell_type": "code",
   "execution_count": 188,
   "id": "be71dec7",
   "metadata": {},
   "outputs": [
    {
     "data": {
      "text/plain": [
       "-0.5000038528442383"
      ]
     },
     "execution_count": 188,
     "metadata": {},
     "output_type": "execute_result"
    }
   ],
   "source": [
    "#alpha 2\n",
    "dicho(-1.51,-0.5,f,10**(-5))\n",
    "#à 10^-8"
   ]
  },
  {
   "cell_type": "markdown",
   "id": "2005d962",
   "metadata": {},
   "source": [
    "# Méthode graphique pour la recherche de la solution"
   ]
  },
  {
   "cell_type": "code",
   "execution_count": 204,
   "id": "f6da806d",
   "metadata": {},
   "outputs": [
    {
     "data": {
      "image/png": "[encoded data removed]",
      "text/plain": [
       "<Figure size 432x288 with 4 Axes>"
      ]
     },
     "metadata": {
      "needs_background": "light"
     },
     "output_type": "display_data"
    }
   ],
   "source": [
    "%matplotlib inline\n",
    "#import mpld3\n",
    "#mpld3.enable_notebook()\n",
    "import numpy as np \n",
    "import matplotlib.pyplot as plt\n",
    "\n",
    "f=lambda x:x**3+x**2-3*x-3\n",
    "\n",
    "t=np.linspace(1.7,1.75,100)\n",
    "plt.subplot(2,2,1)\n",
    "plt.plot(t,f(t),'r')\n",
    "plt.grid(True)\n",
    "##########################################\n",
    "t=np.linspace(1.2,1.4,100)\n",
    "plt.subplot(2,2,2)\n",
    "plt.plot(t,f(t),'r')\n",
    "plt.grid(True)\n",
    "##########################################\n",
    "t=np.linspace(1.35,1.4,100)\n",
    "plt.subplot(2,2,3)\n",
    "plt.plot(t,f(t),'r')\n",
    "plt.grid(True)\n",
    "#########################################\n",
    "t=np.linspace(1.365,1.367,100)\n",
    "plt.subplot(2,2,4)\n",
    "plt.plot(t,f(t),'r')\n",
    "plt.grid(True)"
   ]
  },
  {
   "cell_type": "markdown",
   "id": "65148169",
   "metadata": {},
   "source": [
    "# Transformer le code précédent pour trouver desvaleurs approchées des solutions alpha_1, \\alpha_2 et \\alpha_3 de l'equation (E):"
   ]
  },
  {
   "cell_type": "code",
   "execution_count": 215,
   "id": "359e5a61",
   "metadata": {},
   "outputs": [
    {
     "data": {
      "text/plain": [
       "-0.5000038146972656"
      ]
     },
     "execution_count": 215,
     "metadata": {},
     "output_type": "execute_result"
    }
   ],
   "source": [
    "#alpha2\n",
    "dicho(-1.5,-0.5,f,10**(-5))"
   ]
  },
  {
   "cell_type": "code",
   "execution_count": 216,
   "id": "0e21d79d",
   "metadata": {},
   "outputs": [
    {
     "data": {
      "text/plain": [
       "1.9999961853027344"
      ]
     },
     "execution_count": 216,
     "metadata": {},
     "output_type": "execute_result"
    }
   ],
   "source": [
    "#alpha3\n",
    "dicho(1.5,2,f,10**(-5))"
   ]
  },
  {
   "cell_type": "markdown",
   "id": "baad6098",
   "metadata": {},
   "source": [
    "# Exercice 3:"
   ]
  },
  {
   "cell_type": "markdown",
   "id": "de0a6124",
   "metadata": {},
   "source": [
    "# 1)"
   ]
  },
  {
   "cell_type": "code",
   "execution_count": 206,
   "id": "f7005b2e",
   "metadata": {},
   "outputs": [],
   "source": [
    "def f(x):\n",
    "    '''la fonction qu'on veut représenter'''\n",
    "    return(x**3+4*x**2-3*x-10)"
   ]
  },
  {
   "cell_type": "code",
   "execution_count": 208,
   "id": "1801ec96",
   "metadata": {},
   "outputs": [
    {
     "data": {
      "image/png": "[encoded data removed]",
      "text/plain": [
       "<Figure size 432x288 with 4 Axes>"
      ]
     },
     "metadata": {
      "needs_background": "light"
     },
     "output_type": "display_data"
    }
   ],
   "source": [
    "%matplotlib inline\n",
    "#import mpld3\n",
    "#mpld3.enable_notebook()\n",
    "import numpy as np \n",
    "import matplotlib.pyplot as plt\n",
    "\n",
    "f=lambda x:x**3+4*x**2-10\n",
    "\n",
    "t=np.linspace(1,2,100)\n",
    "plt.subplot(2,2,1)\n",
    "plt.plot(t,f(t),'r')\n",
    "plt.grid(True)\n",
    "##########################################\n",
    "t=np.linspace(1.2,1.4,100)\n",
    "plt.subplot(2,2,2)\n",
    "plt.plot(t,f(t),'r')\n",
    "plt.grid(True)\n",
    "##########################################\n",
    "t=np.linspace(1.35,1.4,100)\n",
    "plt.subplot(2,2,3)\n",
    "plt.plot(t,f(t),'r')\n",
    "plt.grid(True)\n",
    "#########################################\n",
    "t=np.linspace(1.365,1.367,100)\n",
    "plt.subplot(2,2,4)\n",
    "plt.plot(t,f(t),'r')\n",
    "plt.grid(True)"
   ]
  },
  {
   "cell_type": "markdown",
   "id": "dd402dc6",
   "metadata": {},
   "source": [
    "# 2/ Justification théorique pour la fonction g1\n",
    "On considère l'équation : f(x)=x^3+4x^2-10=0\n",
    "\n",
    "a) g(x)=\\frac{1}{2}\\sqrt{10-x^3}=x.\n",
    "\n",
    "x^3+4x^2-10=0\n",
    "\n",
    "4x^2=10-x^3\n",
    "\n",
    "2x=\\sqrt{10-x^3}\n",
    "\n",
    "x=\\frac{1}{2}\\sqrt{10-x^3}\n",
    "\n",
    "Donc f(x)=g(x)"
   ]
  },
  {
   "cell_type": "markdown",
   "id": "d3314a33",
   "metadata": {},
   "source": [
    "# Calcul symbolique de la dérivée"
   ]
  },
  {
   "cell_type": "code",
   "execution_count": 210,
   "id": "2b13fea7",
   "metadata": {},
   "outputs": [],
   "source": [
    "from sympy import *\n",
    "import numpy as np\n",
    "x, y, z = symbols('x y z')\n",
    "init_printing(use_unicode=True)\n",
    "g1=lambda x: 1/2*sqrt(10-x**3)"
   ]
  },
  {
   "cell_type": "code",
   "execution_count": 211,
   "id": "5c808f4e",
   "metadata": {},
   "outputs": [
    {
     "data": {
      "image/png": "[encoded data removed]",
      "text/latex": [
       "$\\displaystyle -0.511744628292746$"
      ],
      "text/plain": [
       "-0.5117446282927461"
      ]
     },
     "execution_count": 211,
     "metadata": {},
     "output_type": "execute_result"
    }
   ],
   "source": [
    "dg1=lambdify(x,diff(g1(x),x,1))\n",
    "dg1(1.365)"
   ]
  },
  {
   "cell_type": "markdown",
   "id": "dcb1d867",
   "metadata": {},
   "source": [
    "# Que pouvez vous conclure à propos des convergences de g1"
   ]
  },
  {
   "cell_type": "code",
   "execution_count": null,
   "id": "fb2517a1",
   "metadata": {},
   "outputs": [],
   "source": [
    "g1 est diverge."
   ]
  },
  {
   "cell_type": "markdown",
   "id": "02602922",
   "metadata": {},
   "source": [
    "# Justification théoriques pour g2 et g3\n",
    "\n",
    "On considère l'équation : f(x)=x^3+4x^2-10=0\n",
    "\n",
    "b) g(x)=\\sqrt{\\displaystyle\\frac{10}{4+x}}=x.\n",
    " \n",
    "Donc  f(x)=g(x)\n",
    "\n",
    "On considère l'équation : f(x)=x^3+4x^2-10=0\n",
    "\n",
    "c)g(x)=x-x^3-4x^2+10=x\n",
    "\n",
    "x=x-x^3-4x^2+10\n",
    "\n",
    "Donc f(x)=g(x)\n",
    "\n",
    "Etudier théoriquement la convergences de g2 et g3"
   ]
  },
  {
   "cell_type": "markdown",
   "id": "35104c29",
   "metadata": {},
   "source": [
    "# Etudier théoriquement la convergences de g2 et g3"
   ]
  },
  {
   "cell_type": "code",
   "execution_count": 51,
   "id": "948c2fc5",
   "metadata": {},
   "outputs": [],
   "source": [
    "from sympy import *\n",
    "import numpy as np\n",
    "x, y, z = symbols('x y z')\n",
    "init_printing(use_unicode=True)\n",
    "g2=lambda x:sqrt(10/x+4)"
   ]
  },
  {
   "cell_type": "code",
   "execution_count": 52,
   "id": "fa3dfa05",
   "metadata": {},
   "outputs": [
    {
     "data": {
      "image/png": "[encoded data removed]",
      "text/latex": [
       "$\\displaystyle -0.797381733317368$"
      ],
      "text/plain": [
       "-0.797381733317368"
      ]
     },
     "execution_count": 52,
     "metadata": {},
     "output_type": "execute_result"
    }
   ],
   "source": [
    "dg2=lambdify(x,diff(g2(x),x,1))\n",
    "dg2(1.365)"
   ]
  },
  {
   "cell_type": "markdown",
   "id": "6e1ee0e2",
   "metadata": {},
   "source": [
    "# la convergence de g2?"
   ]
  },
  {
   "cell_type": "code",
   "execution_count": null,
   "id": "cbdf01df",
   "metadata": {},
   "outputs": [],
   "source": [
    "g2 est diverge car leur derivéé est infrieur a 1."
   ]
  },
  {
   "cell_type": "code",
   "execution_count": 50,
   "id": "7bd800fa",
   "metadata": {},
   "outputs": [],
   "source": [
    "from sympy import *\n",
    "import numpy as np\n",
    "x, y, z = symbols('x y z')\n",
    "init_printing(use_unicode=True)\n",
    "g3=lambda x:(x-x**3-4*x**2+10)"
   ]
  },
  {
   "cell_type": "code",
   "execution_count": 51,
   "id": "35968e4a",
   "metadata": {},
   "outputs": [
    {
     "data": {
      "image/png": "[encoded data removed]",
      "text/latex": [
       "$\\displaystyle -15.509675$"
      ],
      "text/plain": [
       "-15.509675000000001"
      ]
     },
     "execution_count": 51,
     "metadata": {},
     "output_type": "execute_result"
    }
   ],
   "source": [
    "dg3=lambdify(x,diff(g3(x),x,1))\n",
    "dg3(1.365)"
   ]
  },
  {
   "cell_type": "code",
   "execution_count": null,
   "id": "67403b35",
   "metadata": {},
   "outputs": [],
   "source": [
    "g3 est converge car valeur absolue de la derivé est superiére a 1"
   ]
  },
  {
   "cell_type": "code",
   "execution_count": 326,
   "id": "5cec7f25",
   "metadata": {},
   "outputs": [
    {
     "ename": "NameError",
     "evalue": "name 'niter' is not defined",
     "output_type": "error",
     "traceback": [
      "\u001b[1;31m---------------------------------------------------------------------------\u001b[0m",
      "\u001b[1;31mNameError\u001b[0m                                 Traceback (most recent call last)",
      "\u001b[1;32m<ipython-input-326-ee7fc848400f>\u001b[0m in \u001b[0;36m<module>\u001b[1;34m\u001b[0m\n\u001b[0;32m     10\u001b[0m     \u001b[0mniter\u001b[0m\u001b[1;33m=\u001b[0m\u001b[1;36m0\u001b[0m\u001b[1;33m\u001b[0m\u001b[1;33m\u001b[0m\u001b[0m\n\u001b[0;32m     11\u001b[0m     \u001b[0merr\u001b[0m\u001b[1;33m=\u001b[0m\u001b[1;36m1\u001b[0m\u001b[1;33m\u001b[0m\u001b[1;33m\u001b[0m\u001b[0m\n\u001b[1;32m---> 12\u001b[1;33m \u001b[1;32mwhile\u001b[0m \u001b[0mniter\u001b[0m\u001b[1;33m<\u001b[0m\u001b[0mnmax\u001b[0m\u001b[1;33m:\u001b[0m\u001b[1;33m\u001b[0m\u001b[1;33m\u001b[0m\u001b[0m\n\u001b[0m\u001b[0;32m     13\u001b[0m     \u001b[0mx\u001b[0m\u001b[1;33m=\u001b[0m\u001b[0mzero\u001b[0m\u001b[1;33m\u001b[0m\u001b[1;33m\u001b[0m\u001b[0m\n\u001b[0;32m     14\u001b[0m     \u001b[0mzero\u001b[0m\u001b[1;33m=\u001b[0m\u001b[0mf\u001b[0m\u001b[1;33m(\u001b[0m\u001b[0mx\u001b[0m\u001b[1;33m)\u001b[0m\u001b[1;33m\u001b[0m\u001b[1;33m\u001b[0m\u001b[0m\n",
      "\u001b[1;31mNameError\u001b[0m: name 'niter' is not defined"
     ]
    }
   ],
   "source": [
    "f=lambda x:x**3+4*x**2-10\n",
    "g1=lambda x: 1/2*sqrt(10-x**3)\n",
    "g2=lambda x:sqrt(10/x+4)\n",
    "g3=lambda x:(x-x**3-4*x**2+10)\n",
    "\n",
    "def pointfixe(f,x0,eps,nmax):\n",
    "    #[zero,err,niter]=pointfixe(f,x0,eps,nmax)\n",
    "    zero=0\n",
    "    zero=x0\n",
    "    niter=0\n",
    "    err=1\n",
    "while niter<nmax:\n",
    "    x=zero\n",
    "    zero=f(x)\n",
    "    err=abs(zero-x)\n",
    "    niter+=1\n",
    "    if err<eps:\n",
    "        break\n",
    "return niter\n",
    "    #print('pas de convergence avec le nombre d''iteration indique')\n",
    "\n",
    "\n",
    "\n",
    "\n"
   ]
  },
  {
   "cell_type": "markdown",
   "id": "d0b8cf0f",
   "metadata": {},
   "source": [
    "# 4)"
   ]
  },
  {
   "cell_type": "code",
   "execution_count": 60,
   "id": "911376a0",
   "metadata": {},
   "outputs": [],
   "source": [
    "f=lambda x:  x**3+4*x**2-10 # la fonction f\n",
    "g1=lambda x: 1/2*sqrt(10-x**3)\n",
    "g2=lambda x: sqrt(10/(x+4))\n",
    "g3=lambda x: x-x**3-4*x**2 + 10\n",
    "\n",
    "\n",
    "def ptfixe(g,x0,eps,nmax):\n",
    "    pass\n",
    "\n",
    "\n",
    "    print('pas de convergence avec le nombre d''iteration indique')"
   ]
  },
  {
   "cell_type": "code",
   "execution_count": 61,
   "id": "3e109cca",
   "metadata": {},
   "outputs": [
    {
     "name": "stdout",
     "output_type": "stream",
     "text": [
      "pas de convergence avec le nombre diteration indique\n"
     ]
    }
   ],
   "source": [
    "ptfixe(g3,1.5,0.0001,30)"
   ]
  },
  {
   "cell_type": "markdown",
   "id": "d5bb86a6",
   "metadata": {},
   "source": [
    "# quelle est la fonction qui donne la convergence la plus rapide ??"
   ]
  },
  {
   "cell_type": "markdown",
   "id": "1a5b268a",
   "metadata": {},
   "source": [
    "# Donner le nombre d'itération pour chaque méthode convergent e\n",
    "\n",
    "g2 donne le resultat en ? itérations"
   ]
  },
  {
   "cell_type": "code",
   "execution_count": 68,
   "id": "d53fb25e",
   "metadata": {},
   "outputs": [],
   "source": [
    "f=lambda x:  x**3+4*x**2-10 # la fonction f\n",
    "g2=lambda x: sqrt(10/(x+4))\n",
    "\n",
    "def ptfixe(g,x0,eps,nmax):\n",
    "    pass\n",
    "\n",
    "\n",
    "    print('pas de convergence avec le nombre d''iteration indique')"
   ]
  },
  {
   "cell_type": "code",
   "execution_count": 76,
   "id": "51cdca2f",
   "metadata": {},
   "outputs": [
    {
     "name": "stdout",
     "output_type": "stream",
     "text": [
      "pas de convergence avec le nombre diteration indique\n"
     ]
    }
   ],
   "source": [
    "ptfixe(g2,1.5,0.001,30)"
   ]
  },
  {
   "cell_type": "markdown",
   "id": "8275b105",
   "metadata": {},
   "source": [
    "# g1 donne le resultat en ?"
   ]
  },
  {
   "cell_type": "code",
   "execution_count": 70,
   "id": "63df97ba",
   "metadata": {},
   "outputs": [],
   "source": [
    "f=lambda x:  x**3+4*x**2-10 # la fonction f\n",
    "g1=lambda x:1/2*sqrt(10-x**3)\n",
    "\n",
    "def ptfixe(g1,x0,eps,nmax):\n",
    "    pass\n",
    "\n",
    "\n",
    "    print('pas de convergence avec le nombre d''iteration indique')"
   ]
  },
  {
   "cell_type": "code",
   "execution_count": null,
   "id": "a5c3a542",
   "metadata": {},
   "outputs": [],
   "source": [
    "ptfixe(g1,1.5,0.0001,30)"
   ]
  },
  {
   "cell_type": "markdown",
   "id": "5b13b951",
   "metadata": {},
   "source": [
    "# g3 est - elle convergente?"
   ]
  },
  {
   "cell_type": "code",
   "execution_count": 38,
   "id": "73f2c174",
   "metadata": {},
   "outputs": [
    {
     "name": "stdout",
     "output_type": "stream",
     "text": [
      "g3 est convergente\n"
     ]
    }
   ],
   "source": [
    "from sympy import *\n",
    "import numpy as np\n",
    "x, y, z = symbols('x y z')\n",
    "init_printing(use_unicode=True)\n",
    "print('g3 est convergente')\n",
    "g3=lambda x:(x-x**3-4*x**2+10)"
   ]
  },
  {
   "cell_type": "code",
   "execution_count": 41,
   "id": "88d739da",
   "metadata": {},
   "outputs": [
    {
     "data": {
      "image/png": "[encoded data removed]",
      "text/latex": [
       "$\\displaystyle -15.509675$"
      ],
      "text/plain": [
       "-15.509675000000001"
      ]
     },
     "execution_count": 41,
     "metadata": {},
     "output_type": "execute_result"
    }
   ],
   "source": [
    "dg3=lambdify(x,diff(g3(x),x,1))\n",
    "dg3(1.365)\n"
   ]
  },
  {
   "cell_type": "markdown",
   "id": "4b6e5441",
   "metadata": {},
   "source": [
    "# Exercice 4:"
   ]
  },
  {
   "cell_type": "markdown",
   "id": "dbf5d2a0",
   "metadata": {},
   "source": [
    "# 1)"
   ]
  },
  {
   "cell_type": "code",
   "execution_count": 134,
   "id": "95998951",
   "metadata": {},
   "outputs": [],
   "source": [
    "from scipy.optimize import newton\n",
    "import numpy as np\n",
    "\n",
    "f=lambda x:exp(-x)-x\n",
    "def newton(x,eps=0.001):\n",
    "    n=0\n",
    "    dif=2*eps\n",
    "    while dif>eps:\n",
    "        x1=x-f(x)/fprime(x)\n",
    "        dif=abs(x1-x)\n",
    "        x=x1\n",
    "        n=n+1\n",
    "    return (x,n)   \n",
    " \n",
    "    "
   ]
  },
  {
   "cell_type": "code",
   "execution_count": 152,
   "id": "4b58a6e5",
   "metadata": {},
   "outputs": [
    {
     "data": {
      "image/png": "[encoded data removed]",
      "text/plain": [
       "<Figure size 432x288 with 1 Axes>"
      ]
     },
     "metadata": {
      "needs_background": "light"
     },
     "output_type": "display_data"
    }
   ],
   "source": [
    "f=lambda x: np.exp(-x)-x\n",
    "fprime=lambda x: -np.exp(-x)-1\n",
    "t=linspace(0,1,100)\n",
    "plt.plot(t,f(t))\n",
    "plt.grid()\n"
   ]
  },
  {
   "cell_type": "code",
   "execution_count": 153,
   "id": "a16fe4f9",
   "metadata": {},
   "outputs": [
    {
     "data": {
      "text/plain": [
       "(0.5671431650348622, 3)"
      ]
     },
     "execution_count": 153,
     "metadata": {},
     "output_type": "execute_result"
    }
   ],
   "source": [
    "newton(0,0.001)"
   ]
  },
  {
   "cell_type": "markdown",
   "id": "4389bec9",
   "metadata": {},
   "source": [
    "# 2)"
   ]
  },
  {
   "cell_type": "markdown",
   "id": "41781b8c",
   "metadata": {},
   "source": [
    "# Donner la solution entière avecun code python\n"
   ]
  },
  {
   "cell_type": "code",
   "execution_count": 154,
   "id": "cd18edc0",
   "metadata": {},
   "outputs": [
    {
     "data": {
      "text/plain": [
       "(0.567143285989123, 3)"
      ]
     },
     "execution_count": 154,
     "metadata": {},
     "output_type": "execute_result"
    }
   ],
   "source": [
    "newton(1,0.001)"
   ]
  }
 ],
 "metadata": {
  "kernelspec": {
   "display_name": "Python 3",
   "language": "python",
   "name": "python3"
  },
  "language_info": {
   "codemirror_mode": {
    "name": "ipython",
    "version": 3
   },
   "file_extension": ".py",
   "mimetype": "text/x-python",
   "name": "python",
   "nbconvert_exporter": "python",
   "pygments_lexer": "ipython3",
   "version": "3.8.8"
  }
 },
 "nbformat": 4,
 "nbformat_minor": 5
}
